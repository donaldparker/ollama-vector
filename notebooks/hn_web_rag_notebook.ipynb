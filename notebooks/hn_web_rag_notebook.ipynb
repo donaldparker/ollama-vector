{
 "cells": [
  {
   "metadata": {},
   "cell_type": "markdown",
   "source": [
    "# Ollama Web Rag\n",
    "## Config Web Loader"
   ],
   "id": "cbd1f4ee58e0cf36"
  },
  {
   "metadata": {
    "ExecuteTime": {
     "end_time": "2024-11-30T19:50:33.754897Z",
     "start_time": "2024-11-30T19:50:33.749767Z"
    }
   },
   "cell_type": "code",
   "source": [
    "#https://python.langchain.com/docs/integrations/document_transformers/beautiful_soup/\n",
    "\n",
    "from bs4 import BeautifulSoup\n",
    "from langchain_community.document_loaders import AsyncChromiumLoader\n",
    "from langchain_community.document_transformers import BeautifulSoupTransformer\n",
    "\n",
    "PROTOCOL_BUFFERS_PYTHON_IMPLEMENTATION=\"python\"\n",
    "\n",
    "\n",
    "import os\n",
    "from os.path import join, dirname\n",
    "from langchain_text_splitters import RecursiveCharacterTextSplitter\n",
    "from langchain_ollama import OllamaEmbeddings\n",
    "from langchain_community.vectorstores import PGVector\n",
    "from langchain.prompts import ChatPromptTemplate, PromptTemplate\n",
    "from langchain_core.output_parsers import StrOutputParser\n",
    "from langchain_ollama.chat_models import ChatOllama\n",
    "from langchain_core.runnables import RunnablePassthrough\n",
    "from langchain.retrievers.multi_query import MultiQueryRetriever\n",
    "from langchain_community.document_loaders import WebBaseLoader\n",
    "from langchain_openai import OpenAIEmbeddings\n",
    "from dotenv import load_dotenv, find_dotenv\n",
    "\n",
    "load_dotenv(find_dotenv())\n",
    "\n",
    "OPENAI_API_KEY= os.environ.get('OPENAI_API_KEY')\n",
    "PGVECTOR_CONNECTION_STRING = os.environ.get('PGVECTOR_CONNECTION_STRING')\n",
    "USER_AGENT = os.environ.get('USER_AGENT')\n",
    "\n",
    "import warnings\n",
    "warnings.filterwarnings('ignore')\n",
    "\n",
    "from IPython.display import display, Markdown\n",
    "\n"
   ],
   "id": "819b314d1a689abf",
   "outputs": [],
   "execution_count": 28
  },
  {
   "metadata": {},
   "cell_type": "markdown",
   "source": "## Load Webpages",
   "id": "d6817ba31a28d1b3"
  },
  {
   "metadata": {
    "ExecuteTime": {
     "end_time": "2024-11-30T19:50:38.550262Z",
     "start_time": "2024-11-30T19:50:38.526558Z"
    }
   },
   "cell_type": "code",
   "source": [
    "## Load Webpages\n",
    "hn_loader =AsyncChromiumLoader([\"https://news.ycombinator.com/\"])\n",
    "html = hn_loader.load()\n"
   ],
   "id": "ee7dc01e7461dd18",
   "outputs": [
    {
     "ename": "RuntimeError",
     "evalue": "asyncio.run() cannot be called from a running event loop",
     "output_type": "error",
     "traceback": [
      "\u001B[0;31m---------------------------------------------------------------------------\u001B[0m",
      "\u001B[0;31mRuntimeError\u001B[0m                              Traceback (most recent call last)",
      "Cell \u001B[0;32mIn[29], line 3\u001B[0m\n\u001B[1;32m      1\u001B[0m \u001B[38;5;66;03m## Load Webpages\u001B[39;00m\n\u001B[1;32m      2\u001B[0m hn_loader \u001B[38;5;241m=\u001B[39mAsyncChromiumLoader([\u001B[38;5;124m\"\u001B[39m\u001B[38;5;124mhttps://news.ycombinator.com/\u001B[39m\u001B[38;5;124m\"\u001B[39m])\n\u001B[0;32m----> 3\u001B[0m html \u001B[38;5;241m=\u001B[39m \u001B[43mhn_loader\u001B[49m\u001B[38;5;241;43m.\u001B[39;49m\u001B[43mload\u001B[49m\u001B[43m(\u001B[49m\u001B[43m)\u001B[49m\n",
      "File \u001B[0;32m~/Projects/lab/rag/ollama-pgvector/.venv/lib/python3.9/site-packages/langchain_core/document_loaders/base.py:31\u001B[0m, in \u001B[0;36mBaseLoader.load\u001B[0;34m(self)\u001B[0m\n\u001B[1;32m     29\u001B[0m \u001B[38;5;28;01mdef\u001B[39;00m \u001B[38;5;21mload\u001B[39m(\u001B[38;5;28mself\u001B[39m) \u001B[38;5;241m-\u001B[39m\u001B[38;5;241m>\u001B[39m \u001B[38;5;28mlist\u001B[39m[Document]:\n\u001B[1;32m     30\u001B[0m \u001B[38;5;250m    \u001B[39m\u001B[38;5;124;03m\"\"\"Load data into Document objects.\"\"\"\u001B[39;00m\n\u001B[0;32m---> 31\u001B[0m     \u001B[38;5;28;01mreturn\u001B[39;00m \u001B[38;5;28;43mlist\u001B[39;49m\u001B[43m(\u001B[49m\u001B[38;5;28;43mself\u001B[39;49m\u001B[38;5;241;43m.\u001B[39;49m\u001B[43mlazy_load\u001B[49m\u001B[43m(\u001B[49m\u001B[43m)\u001B[49m\u001B[43m)\u001B[49m\n",
      "File \u001B[0;32m~/Projects/lab/rag/ollama-pgvector/.venv/lib/python3.9/site-packages/langchain_community/document_loaders/chromium.py:85\u001B[0m, in \u001B[0;36mAsyncChromiumLoader.lazy_load\u001B[0;34m(self)\u001B[0m\n\u001B[1;32m     74\u001B[0m \u001B[38;5;250m\u001B[39m\u001B[38;5;124;03m\"\"\"\u001B[39;00m\n\u001B[1;32m     75\u001B[0m \u001B[38;5;124;03mLazily load text content from the provided URLs.\u001B[39;00m\n\u001B[1;32m     76\u001B[0m \n\u001B[0;32m   (...)\u001B[0m\n\u001B[1;32m     82\u001B[0m \n\u001B[1;32m     83\u001B[0m \u001B[38;5;124;03m\"\"\"\u001B[39;00m\n\u001B[1;32m     84\u001B[0m \u001B[38;5;28;01mfor\u001B[39;00m url \u001B[38;5;129;01min\u001B[39;00m \u001B[38;5;28mself\u001B[39m\u001B[38;5;241m.\u001B[39murls:\n\u001B[0;32m---> 85\u001B[0m     html_content \u001B[38;5;241m=\u001B[39m \u001B[43masyncio\u001B[49m\u001B[38;5;241;43m.\u001B[39;49m\u001B[43mrun\u001B[49m\u001B[43m(\u001B[49m\u001B[38;5;28;43mself\u001B[39;49m\u001B[38;5;241;43m.\u001B[39;49m\u001B[43mascrape_playwright\u001B[49m\u001B[43m(\u001B[49m\u001B[43murl\u001B[49m\u001B[43m)\u001B[49m\u001B[43m)\u001B[49m\n\u001B[1;32m     86\u001B[0m     metadata \u001B[38;5;241m=\u001B[39m {\u001B[38;5;124m\"\u001B[39m\u001B[38;5;124msource\u001B[39m\u001B[38;5;124m\"\u001B[39m: url}\n\u001B[1;32m     87\u001B[0m     \u001B[38;5;28;01myield\u001B[39;00m Document(page_content\u001B[38;5;241m=\u001B[39mhtml_content, metadata\u001B[38;5;241m=\u001B[39mmetadata)\n",
      "File \u001B[0;32m/Library/Developer/CommandLineTools/Library/Frameworks/Python3.framework/Versions/3.9/lib/python3.9/asyncio/runners.py:33\u001B[0m, in \u001B[0;36mrun\u001B[0;34m(main, debug)\u001B[0m\n\u001B[1;32m      9\u001B[0m \u001B[38;5;250m\u001B[39m\u001B[38;5;124;03m\"\"\"Execute the coroutine and return the result.\u001B[39;00m\n\u001B[1;32m     10\u001B[0m \n\u001B[1;32m     11\u001B[0m \u001B[38;5;124;03mThis function runs the passed coroutine, taking care of\u001B[39;00m\n\u001B[0;32m   (...)\u001B[0m\n\u001B[1;32m     30\u001B[0m \u001B[38;5;124;03m    asyncio.run(main())\u001B[39;00m\n\u001B[1;32m     31\u001B[0m \u001B[38;5;124;03m\"\"\"\u001B[39;00m\n\u001B[1;32m     32\u001B[0m \u001B[38;5;28;01mif\u001B[39;00m events\u001B[38;5;241m.\u001B[39m_get_running_loop() \u001B[38;5;129;01mis\u001B[39;00m \u001B[38;5;129;01mnot\u001B[39;00m \u001B[38;5;28;01mNone\u001B[39;00m:\n\u001B[0;32m---> 33\u001B[0m     \u001B[38;5;28;01mraise\u001B[39;00m \u001B[38;5;167;01mRuntimeError\u001B[39;00m(\n\u001B[1;32m     34\u001B[0m         \u001B[38;5;124m\"\u001B[39m\u001B[38;5;124masyncio.run() cannot be called from a running event loop\u001B[39m\u001B[38;5;124m\"\u001B[39m)\n\u001B[1;32m     36\u001B[0m \u001B[38;5;28;01mif\u001B[39;00m \u001B[38;5;129;01mnot\u001B[39;00m coroutines\u001B[38;5;241m.\u001B[39miscoroutine(main):\n\u001B[1;32m     37\u001B[0m     \u001B[38;5;28;01mraise\u001B[39;00m \u001B[38;5;167;01mValueError\u001B[39;00m(\u001B[38;5;124m\"\u001B[39m\u001B[38;5;124ma coroutine was expected, got \u001B[39m\u001B[38;5;132;01m{!r}\u001B[39;00m\u001B[38;5;124m\"\u001B[39m\u001B[38;5;241m.\u001B[39mformat(main))\n",
      "\u001B[0;31mRuntimeError\u001B[0m: asyncio.run() cannot be called from a running event loop"
     ]
    }
   ],
   "execution_count": 29
  },
  {
   "metadata": {
    "ExecuteTime": {
     "end_time": "2024-11-30T19:37:52.434730Z",
     "start_time": "2024-11-30T19:37:52.431617Z"
    }
   },
   "cell_type": "code",
   "source": [
    "bs_transformer = BeautifulSoupTransformer()\n",
    "docs_transformed = bs_transformer.transform_documents(\n",
    "    html, tags_to_extract=[\".title .titleline a\"]\n",
    ")\n",
    "print(docs_transformed)"
   ],
   "id": "4c65a0ba2a45de21",
   "outputs": [
    {
     "name": "stdout",
     "output_type": "stream",
     "text": [
      "\n",
      "\n",
      "\n",
      "Hacker News\n",
      "\n",
      "Hacker News\n",
      "new | past | comments | ask | show | jobs | submit \n",
      "login\n",
      "\n",
      "\n",
      "\n",
      "\n",
      "1. Square Roots and Maxima (leancrew.com)\n",
      "48 points by surprisetalk 3 hours ago  | hide | 11 comments \n",
      "\n",
      "\n",
      "\n",
      "2. Interview of Robert Shingledecker, Tiny Core Linux and DSL Developer (2009) (distrowatch.com)\n",
      "39 points by transpute 4 hours ago  | hide | 7 comments \n",
      "\n",
      "\n",
      "\n",
      "3. Make the Most Of Your Burl (cindydrozda.com)\n",
      "65 points by michael_forrest 6 hours ago  | hide | 20 comments \n",
      "\n",
      "\n",
      "\n",
      "4. Geometric line-art of Wacław Szpakowski (2017) (theparisreview.org)\n",
      "302 points by bookofjoe 14 hours ago  | hide | 36 comments \n",
      "\n",
      "\n",
      "\n",
      "5. Rust-Query (lucasholten.com)\n",
      "106 points by lukastyrychtr 10 hours ago  | hide | 44 comments \n",
      "\n",
      "\n",
      "\n",
      "6. Engineering Sleep (minjunes.ai)\n",
      "296 points by amin 14 hours ago  | hide | 122 comments \n",
      "\n",
      "\n",
      "\n",
      "7. Breaking the 4Chan CAPTCHA (nullpt.rs)\n",
      "445 points by hazebooth 23 hours ago  | hide | 259 comments \n",
      "\n",
      "\n",
      "\n",
      "8. What does this button do? – My new car has a mysterious and undocumented switch (koenvh.nl)\n",
      "537 points by Koenvh 23 hours ago  | hide | 382 comments \n",
      "\n",
      "\n",
      "\n",
      "9. Nodezator is a generalist Python node editor (github.com/indiepython)\n",
      "156 points by mariuz 14 hours ago  | hide | 58 comments \n",
      "\n",
      "\n",
      "\n",
      "10. The Opposite of Documentation is Superstition (2020) (buttondown.com/hillelwayne)\n",
      "12 points by BerislavLopac 5 hours ago  | hide | 3 comments \n",
      "\n",
      "\n",
      "\n",
      "11. Sol-Ark manufacturer reportedly disables all Deye inverters in the US (solarboi.com)\n",
      "172 points by walterbell 16 hours ago  | hide | 144 comments \n",
      "\n",
      "\n",
      "\n",
      "12. You must read at least one book to ride (mataroa.blog)\n",
      "24 points by Kinrany 2 hours ago  | hide | 1 comment \n",
      "\n",
      "\n",
      "\n",
      "13. How honeycrisp apples went from marvel to mediocre (seriouseats.com)\n",
      "129 points by haunter 2 hours ago  | hide | 142 comments \n",
      "\n",
      "\n",
      "\n",
      "14. $2000-$3fff &amp;D (2014) (csdb.dk)\n",
      "5 points by luu 4 hours ago  | hide | discuss \n",
      "\n",
      "\n",
      "\n",
      "15. Making Screenshots of Test Equipment Old and New (tomverbeure.github.io)\n",
      "91 points by zdw 13 hours ago  | hide | 17 comments \n",
      "\n",
      "\n",
      "\n",
      "16. Abacist – Calculations with non-decimal units and mixed bases in Scala (soundness.dev)\n",
      "24 points by cbeach 11 hours ago  | hide | 3 comments \n",
      "\n",
      "\n",
      "\n",
      "17. If not React, then what? (infrequently.org)\n",
      "63 points by pier25 15 hours ago  | hide | 124 comments \n",
      "\n",
      "\n",
      "\n",
      "18. Archaeometallurgical investigation of the Nebra Sky Disc (nature.com)\n",
      "53 points by Archelaos 14 hours ago  | hide | 8 comments \n",
      "\n",
      "\n",
      "\n",
      "19. The Influence of Bell Labs (construction-physics.com)\n",
      "187 points by mooreds 1 day ago  | hide | 114 comments \n",
      "\n",
      "\n",
      "\n",
      "20. Neomacs: Structural Lisp IDE/browser/computing environment (github.com/neomacs-project)\n",
      "97 points by kscarlet 22 hours ago  | hide | 30 comments \n",
      "\n",
      "\n",
      "\n",
      "21. Understanding SIMD: Infinite complexity of trivial problems (modular.com)\n",
      "222 points by verdagon 1 day ago  | hide | 94 comments \n",
      "\n",
      "\n",
      "\n",
      "22. Everything You Never Wanted to Know About Linker Script (2021) (mcyoung.xyz)\n",
      "93 points by thunderbong 19 hours ago  | hide | 21 comments \n",
      "\n",
      "\n",
      "\n",
      "23. Lessons from 15 Years of Indie App Development (lukaspetr.com)\n",
      "163 points by Lukas_Petr 21 hours ago  | hide | 64 comments \n",
      "\n",
      "\n",
      "\n",
      "24. The Revised SI of physical units (2019), Max Planck (1900), and 'Planck scale' (osf.io)\n",
      "32 points by mike_ivanov 14 hours ago  | hide | 5 comments \n",
      "\n",
      "\n",
      "\n",
      "25. German WWII Soldier Grave Found with Mesolithic Tools, Roman and Byzantine Coins (labrujulaverde.com)\n",
      "103 points by petethomas 1 day ago  | hide | 106 comments \n",
      "\n",
      "\n",
      "\n",
      "26. The deterioration of Google (baldurbjarnason.com)\n",
      "208 points by PaulHoule 21 hours ago  | hide | 142 comments \n",
      "\n",
      "\n",
      "\n",
      "27. Engineers do not get to make startup mistakes when they build ledgers (alvaroduran.com)\n",
      "522 points by fagnerbrack 1 day ago  | hide | 504 comments \n",
      "\n",
      "\n",
      "\n",
      "28. NASA's Europa Clipper: Miles Down, Instruments Deploying (nasa.gov)\n",
      "137 points by rbanffy 19 hours ago  | hide | 49 comments \n",
      "\n",
      "\n",
      "\n",
      "29. Core copyright violation moves ahead in The Intercept's lawsuit against OpenAI (niemanlab.org)\n",
      "286 points by giuliomagnifico 1 day ago  | hide | 304 comments \n",
      "\n",
      "\n",
      "\n",
      "30. Samurai: Adapting Segment Anything Model for Zero-Shot Visual Tracking (yangchris11.github.io)\n",
      "64 points by GordonS 13 hours ago  | hide | 7 comments \n",
      "\n",
      "\n",
      "\n",
      "More \n",
      "\n",
      "\n",
      "\n",
      "Guidelines | FAQ | Lists | API | Security | Legal | Apply to YC | Contact\n",
      "Search:  \n",
      "\n",
      "\n",
      "\n",
      "[]\n"
     ]
    }
   ],
   "execution_count": 15
  },
  {
   "metadata": {
    "ExecuteTime": {
     "end_time": "2024-11-26T16:10:31.720746Z",
     "start_time": "2024-11-26T16:10:17.058275Z"
    }
   },
   "cell_type": "code",
   "source": [
    "\n",
    "\n",
    "# List of URLs to load documents from\n",
    "urls = [\n",
    "    \"https://www.kodamakoifarm.com/koi-vs-carp/\",\n",
    "    \"https://www.kodamakoifarm.com/japanese-temples-shrines-koi-pond-gardens/\",\n",
    "    \"https://www.kodamakoifarm.com/goldfish/\",\n",
    "    \"https://www.kodamakoifarm.com/koi-rehoming-koi-rescue-organizations/\",\n",
    "    \"https://www.kodamakoifarm.com/taro-kodama-journey-into-world-of-koi-mastery/\",\n",
    "    \"https://www.kodamakoifarm.com/koi-herpes-virus-khv-disease-guide/\",\n",
    "    \"https://www.kodamakoifarm.com/sanitizing-letters/\",\n",
    "    \"https://www.kodamakoifarm.com/request-koi-donation/\",\n",
    "    \"https://www.kodamakoifarm.com/maintaining-and-fixing-pond-issues/\",\n",
    "    \"https://www.lawnstarter.com/blog/landscaping/koi-pond-maintenance/\",\n",
    "    \"https://www.thesprucepets.com/koi-pond-guide-5115233\",\n",
    "    \"https://www.kodamakoifarm.com/new-look-same-great-koi/\",\n",
    "]\n",
    "# Load documents from the URLs\n",
    "docs = [WebBaseLoader(url).load() for url in urls]\n",
    "docs_list = [item for sublist in docs for item in sublist]\n"
   ],
   "id": "54bb6a62b7e84ee2",
   "outputs": [],
   "execution_count": 4
  },
  {
   "metadata": {},
   "cell_type": "markdown",
   "source": "## Split text into chunks",
   "id": "840fd682a7576271"
  },
  {
   "metadata": {
    "ExecuteTime": {
     "end_time": "2024-11-26T16:11:44.026317Z",
     "start_time": "2024-11-26T16:11:44.017456Z"
    }
   },
   "cell_type": "code",
   "source": [
    "#todo findout what tiktoken is text_splitter = RecursiveCharacterTextSplitter.from_tiktoken_encoder(chunk_size=1000, chunk_overlap=200)\n",
    "text_splitter = RecursiveCharacterTextSplitter(chunk_size=500, chunk_overlap=10)\n",
    "chunks = text_splitter.split_documents(docs_list)\n",
    "print(f\"Text split into {len(chunks)} chunks\")"
   ],
   "id": "9a921dab0eba83b8",
   "outputs": [
    {
     "name": "stdout",
     "output_type": "stream",
     "text": [
      "Text split into 432 chunks\n"
     ]
    }
   ],
   "execution_count": 5
  },
  {
   "metadata": {},
   "cell_type": "markdown",
   "source": "## Vector Database",
   "id": "ec597fcb0fa912f5"
  },
  {
   "metadata": {
    "ExecuteTime": {
     "end_time": "2024-11-26T16:12:03.262534Z",
     "start_time": "2024-11-26T16:11:52.515849Z"
    }
   },
   "cell_type": "code",
   "source": [
    "collection_name = \"local-rag\"\n",
    "\n",
    "# chroma_db_openai = Chroma.from_documents(\n",
    "#     documents=chunks,\n",
    "#     embedding=OpenAIEmbeddings(openai_api_key=os.getenv(\"OPENAI_API_KEY\")),\n",
    "#     collection_name=f\"{collection_name}-openai\"\n",
    "# )\n",
    "# \n",
    "# chroma_db_nomic = Chroma.from_documents(\n",
    "#     documents=chunks,\n",
    "#     embedding=OllamaEmbeddings(model=\"nomic-embed-text\"),\n",
    "#     collection_name= f\"{collection_name}-nomic\"\n",
    "# )\n",
    "\n",
    "pgvector_db_openai = PGVector.from_documents(\n",
    "    collection_name=f\"{collection_name}-openai\",\n",
    "    documents=chunks,\n",
    "    embedding=OpenAIEmbeddings(openai_api_key=os.getenv(\"OPENAI_API_KEY\")),\n",
    "    use_jsonb=True\n",
    ")\n",
    "pgvector_db_nomic = PGVector.from_documents(\n",
    "    collection_name=f\"{collection_name}-nomic\",\n",
    "    documents=chunks,\n",
    "    embedding=OllamaEmbeddings(model=\"nomic-embed-text\"),\n",
    "    use_jsonb=True\n",
    ")\n",
    "\n",
    "print(f\"Vector database created successfully\")"
   ],
   "id": "40cbf18410e78c61",
   "outputs": [
    {
     "name": "stdout",
     "output_type": "stream",
     "text": [
      "Vector database created successfully\n"
     ]
    }
   ],
   "execution_count": 6
  },
  {
   "metadata": {},
   "cell_type": "markdown",
   "source": "## Create Chain",
   "id": "e22bca1a3cc07fd0"
  },
  {
   "metadata": {
    "ExecuteTime": {
     "end_time": "2024-11-26T16:12:24.038876Z",
     "start_time": "2024-11-26T16:12:24.027491Z"
    }
   },
   "cell_type": "code",
   "source": [
    "local_model = \"llama3.2:latest\"\n",
    "#local_model = \"granite3-dense:8b\"\n",
    "llm = ChatOllama(model=local_model)\n",
    "\n",
    "query_prompt = PromptTemplate(\n",
    "    input_variables=[\"question\"],\n",
    "    template=\"\"\"You are an AI language model assistant.  Your task is to generate 2 \n",
    "    different versions of the give user question to retrieve relevant documents from\n",
    "    a vector database. By generating multiple perspectives on user question, your\n",
    "    goal is to help users overcome some of the limitations of distance-based\n",
    "    similarity search. Provide these alternative questions separated by newlines.\n",
    "    Original question: {question}\"\"\"\n",
    ")\n",
    "# chroma_retriever_openai = MultiQueryRetriever.from_llm(\n",
    "#     chroma_db_openai.as_retriever(),\n",
    "#     llm,\n",
    "#     prompt=query_prompt\n",
    "# )\n",
    "pg_retriever_openai = MultiQueryRetriever.from_llm(\n",
    "    pgvector_db_openai.as_retriever(),\n",
    "    llm,\n",
    "    prompt=query_prompt\n",
    ")\n",
    "# chroma_retriever_nomic= MultiQueryRetriever.from_llm(\n",
    "#     chroma_db_nomic.as_retriever(),\n",
    "#     llm,\n",
    "#     prompt=query_prompt\n",
    "# )\n",
    "pg_retriever_nomic = MultiQueryRetriever.from_llm(\n",
    "    pgvector_db_nomic.as_retriever(),\n",
    "    llm,\n",
    "    prompt=query_prompt\n",
    ")"
   ],
   "id": "4839fcb68b110d1f",
   "outputs": [],
   "execution_count": 7
  },
  {
   "metadata": {
    "ExecuteTime": {
     "end_time": "2024-11-26T16:12:46.436038Z",
     "start_time": "2024-11-26T16:12:46.433767Z"
    }
   },
   "cell_type": "code",
   "source": [
    "template = \"\"\"Answer the question on on the following context: \n",
    "{context}\n",
    "Question: {question}\n",
    "\"\"\"\n",
    "prompt = ChatPromptTemplate.from_template(template)"
   ],
   "id": "2f7dc1b07d6545f2",
   "outputs": [],
   "execution_count": 9
  },
  {
   "metadata": {
    "ExecuteTime": {
     "end_time": "2024-11-26T16:12:47.965076Z",
     "start_time": "2024-11-26T16:12:47.961497Z"
    }
   },
   "cell_type": "code",
   "source": [
    "# chroma_chain_openai = (\n",
    "#     {\"context\": chroma_retriever_openai, \"question\": RunnablePassthrough()}\n",
    "#     | prompt\n",
    "#     | llm\n",
    "#     | StrOutputParser()\n",
    "# )\n",
    "\n",
    "pg_chain_openai = (\n",
    "    {\"context\": pg_retriever_openai, \"question\": RunnablePassthrough()}\n",
    "    | prompt\n",
    "    | llm\n",
    "    | StrOutputParser()\n",
    ")\n",
    "# chroma_chain_nomic = (\n",
    "#     {\"context\": chroma_retriever_nomic, \"question\": RunnablePassthrough()}\n",
    "#     | prompt\n",
    "#     | llm\n",
    "#     | StrOutputParser()\n",
    "# )\n",
    "\n",
    "pg_chain_nomic = (\n",
    "    {\"context\": pg_retriever_nomic, \"question\": RunnablePassthrough()}\n",
    "    | prompt\n",
    "    | llm\n",
    "    | StrOutputParser()\n",
    ")"
   ],
   "id": "ad21018c0871185d",
   "outputs": [],
   "execution_count": 10
  },
  {
   "metadata": {
    "ExecuteTime": {
     "end_time": "2024-11-26T16:13:06.560609Z",
     "start_time": "2024-11-26T16:13:06.557542Z"
    }
   },
   "cell_type": "code",
   "source": [
    "# def chroma_chat_with_web_openai(question): \n",
    "#     \"\"\"\n",
    "#     Chat with the PDF using our chain\n",
    "#     \"\"\"\n",
    "#     return display(Markdown(chroma_chain_openai.invoke(question)))\n",
    "def pg_chat_with_web_openai(question): \n",
    "    \"\"\"\n",
    "    Chat with the PDF using our chain\n",
    "    \"\"\"\n",
    "    return display(Markdown(pg_chain_openai.invoke(question)))\n",
    "# def chroma_chat_with_web_nomic(question): \n",
    "#     \"\"\"\n",
    "#     Chat with the PDF using our chain\n",
    "#     \"\"\"\n",
    "#     return display(Markdown(chroma_chain_nomic.invoke(question)))\n",
    "def pg_chat_with_web_nomic(question): \n",
    "    \"\"\"\n",
    "    Chat with the PDF using our chain\n",
    "    \"\"\"\n",
    "    return display(Markdown(pg_chain_nomic.invoke(question)))\n"
   ],
   "id": "98daf10915e7b59d",
   "outputs": [],
   "execution_count": 13
  },
  {
   "metadata": {
    "ExecuteTime": {
     "end_time": "2024-11-11T18:56:28.409907Z",
     "start_time": "2024-11-11T18:56:21.759457Z"
    }
   },
   "cell_type": "code",
   "source": "chroma_chat_with_web_openai(\"What is prompt engineering?\")",
   "id": "1a1841d72c67644",
   "outputs": [
    {
     "data": {
      "text/plain": [
       "<IPython.core.display.Markdown object>"
      ],
      "text/markdown": "According to the provided documents, prompt engineering, also known as In-Context Prompting, refers to methods for communicating with LLMs (Large Language Models) to steer their behavior for desired outcomes without updating the model weights. It is an empirical science that requires heavy experimentation and heuristics, as the effect of prompt engineering methods can vary a lot among models."
     },
     "metadata": {},
     "output_type": "display_data"
    }
   ],
   "execution_count": 115
  },
  {
   "metadata": {
    "ExecuteTime": {
     "end_time": "2024-11-11T18:56:30.660193Z",
     "start_time": "2024-11-11T18:56:28.418752Z"
    }
   },
   "cell_type": "code",
   "source": "chroma_chat_with_web_nomic(\"What is prompt engineering?\")",
   "id": "968fbeed6dc155b7",
   "outputs": [
    {
     "data": {
      "text/plain": [
       "<IPython.core.display.Markdown object>"
      ],
      "text/markdown": "According to the provided context, Prompt Engineering (also known as In-Context Prompting) refers to methods for communicating with LLMs to steer their behavior towards desired outcomes without updating the model weights. It is an empirical science that requires heavy experimentation and heuristics, and its effect can vary greatly among models."
     },
     "metadata": {},
     "output_type": "display_data"
    }
   ],
   "execution_count": 116
  },
  {
   "metadata": {
    "ExecuteTime": {
     "end_time": "2024-11-26T16:14:04.140048Z",
     "start_time": "2024-11-26T16:13:55.367599Z"
    }
   },
   "cell_type": "code",
   "source": "pg_chat_with_web_openai(\"What virus's can a Koi catch?\")",
   "id": "e7f6924c9d6103d1",
   "outputs": [
    {
     "data": {
      "text/plain": [
       "<IPython.core.display.Markdown object>"
      ],
      "text/markdown": "Based on the provided context, it appears that a Koi can catch Koi Herpes Virus (KHV). This is mentioned multiple times throughout the documents, specifically in relation to its symptoms, transmission patterns, and prevention measures."
     },
     "metadata": {},
     "output_type": "display_data"
    }
   ],
   "execution_count": 14
  },
  {
   "metadata": {
    "ExecuteTime": {
     "end_time": "2024-11-26T16:15:17.994731Z",
     "start_time": "2024-11-26T16:15:15.479469Z"
    }
   },
   "cell_type": "code",
   "source": "pg_chat_with_web_nomic(\"What are steps for preventing herpes or treating KHV?\")",
   "id": "a890c44e62073e40",
   "outputs": [
    {
     "data": {
      "text/plain": [
       "<IPython.core.display.Markdown object>"
      ],
      "text/markdown": "According to the provided context, the article outlines several steps for preventing and managing Koi Herpes Virus (KHV):\n\nPrevention:\n\n1. Regular testing: Test your koi regularly for signs of KHV infection.\n2. Biosecurity measures: Implement biosecurity measures to prevent the spread of KHV, such as maintaining optimal pond conditions.\n3. Contact local vet or koi dealer first: If you suspect KHV infection, contact your local vet or koi dealer for guidance and testing.\n\nTreatment:\n\n1. Quarantine: Isolate infected koi to prevent further transmission.\n2. Consult veterinarians: Seek professional advice from veterinarians experienced in treating KHV infections.\n\nIt is essential to note that the article emphasizes the importance of not jumping to conclusions about KHV infection without proper testing, as this can lead to unnecessary panic and overreaction."
     },
     "metadata": {},
     "output_type": "display_data"
    }
   ],
   "execution_count": 16
  }
 ],
 "metadata": {
  "kernelspec": {
   "display_name": "Python 3",
   "language": "python",
   "name": "python3"
  },
  "language_info": {
   "codemirror_mode": {
    "name": "ipython",
    "version": 2
   },
   "file_extension": ".py",
   "mimetype": "text/x-python",
   "name": "python",
   "nbconvert_exporter": "python",
   "pygments_lexer": "ipython2",
   "version": "2.7.6"
  }
 },
 "nbformat": 4,
 "nbformat_minor": 5
}
