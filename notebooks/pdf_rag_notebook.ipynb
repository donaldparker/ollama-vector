{
 "cells": [
  {
   "metadata": {},
   "cell_type": "markdown",
   "source": [
    "# Ollama PDF RAG\n",
    "\n",
    "## Import Libraries"
   ],
   "id": "1a63f6f68b6cf595"
  },
  {
   "metadata": {
    "ExecuteTime": {
     "end_time": "2024-11-26T16:51:38.359006Z",
     "start_time": "2024-11-26T16:51:38.349739Z"
    }
   },
   "cell_type": "code",
   "source": [
    "from langchain_community.document_loaders import UnstructuredPDFLoader\n",
    "from langchain_ollama import OllamaEmbeddings\n",
    "from langchain_text_splitters import RecursiveCharacterTextSplitter\n",
    "from langchain_community.vectorstores import PGVector\n",
    "from langchain_community.vectorstores import Chroma\n",
    "from langchain.prompts import ChatPromptTemplate, PromptTemplate\n",
    "from langchain_core.output_parsers import StrOutputParser\n",
    "from langchain_ollama.chat_models import ChatOllama\n",
    "from langchain_core.runnables import RunnablePassthrough\n",
    "from langchain.retrievers.multi_query import MultiQueryRetriever\n",
    "from langchain.memory import ConversationBufferMemory\n",
    "\n",
    "from dotenv import load_dotenv\n",
    "load_dotenv(dotenv_path='.env')\n",
    "\n",
    "#REPO_OWNER = os.environ.get('REPO_OWNER')\n",
    "\n",
    "#suppress warnings\n",
    "import warnings\n",
    "warnings.filterwarnings('ignore')\n",
    "\n",
    "from IPython.display import display, Markdown\n",
    "\n"
   ],
   "id": "f199985e96b038ed",
   "outputs": [],
   "execution_count": 11
  },
  {
   "metadata": {},
   "cell_type": "markdown",
   "source": "",
   "id": "39cae2b79b97204c"
  },
  {
   "metadata": {},
   "cell_type": "markdown",
   "source": "## Load PDFs",
   "id": "5a7822535fc7285c"
  },
  {
   "metadata": {
    "ExecuteTime": {
     "end_time": "2024-11-26T16:51:42.279314Z",
     "start_time": "2024-11-26T16:51:41.513858Z"
    }
   },
   "cell_type": "code",
   "source": [
    "load_path = \"/Users/donaldparker/Projects/lab/rag/ollama-pgvector/pdfs/koi_nih.pdf\"\n",
    "if load_path:\n",
    "    loader = UnstructuredPDFLoader(file_path=load_path)\n",
    "    pdf_data = loader.load()\n",
    "    print(f\"PDF Loaded successfully: {load_path}\")\n",
    "else:\n",
    "    print(f\"Unable to load PDF\")"
   ],
   "id": "9a4e32463fc6a3b7",
   "outputs": [
    {
     "name": "stdout",
     "output_type": "stream",
     "text": [
      "PDF Loaded successfully: /Users/donaldparker/Projects/lab/rag/ollama-pgvector/pdfs/koi_nih.pdf\n"
     ]
    }
   ],
   "execution_count": 12
  },
  {
   "metadata": {},
   "cell_type": "markdown",
   "source": "## Split text into chunks",
   "id": "421a124b5bb681be"
  },
  {
   "metadata": {
    "ExecuteTime": {
     "end_time": "2024-11-26T16:20:31.063248Z",
     "start_time": "2024-11-26T16:20:31.053886Z"
    }
   },
   "cell_type": "code",
   "source": [
    "text_splitter = RecursiveCharacterTextSplitter(chunk_size=1000, chunk_overlap=200)\n",
    "chunks = text_splitter.split_documents(pdf_data)\n",
    "print(f\"Text split into {len(chunks)} chunks\")"
   ],
   "id": "eebed222861c7351",
   "outputs": [
    {
     "name": "stdout",
     "output_type": "stream",
     "text": [
      "Text split into 195 chunks\n"
     ]
    }
   ],
   "execution_count": 10
  },
  {
   "metadata": {},
   "cell_type": "markdown",
   "source": "## Vector Database",
   "id": "b64a2fbfc26b616c"
  },
  {
   "metadata": {
    "ExecuteTime": {
     "end_time": "2024-11-26T15:50:12.705949Z",
     "start_time": "2024-11-26T15:49:44.027881Z"
    }
   },
   "cell_type": "code",
   "source": [
    "collection_name=\"rag-tacoma\"\n",
    "chroma_db = Chroma.from_documents(\n",
    "    documents=chunks,\n",
    "    embedding=OllamaEmbeddings(model=\"nomic-embed-text\"),\n",
    "    collection_name=collection_name\n",
    ")\n",
    "pgvector_db = PGVector.from_documents(\n",
    "    collection_name=collection_name,\n",
    "    documents=chunks,\n",
    "    embedding=OllamaEmbeddings(model=\"nomic-embed-text\"),\n",
    "    use_jsonb=True\n",
    ")\n",
    "\n",
    "print(f\"Vector database created successfully\")"
   ],
   "id": "bf69fdea3c75a162",
   "outputs": [
    {
     "name": "stdout",
     "output_type": "stream",
     "text": [
      "Vector database created successfully\n"
     ]
    }
   ],
   "execution_count": 6
  },
  {
   "metadata": {},
   "cell_type": "markdown",
   "source": "## Set LLM and Retrieval",
   "id": "301ec2dbd553bf0a"
  },
  {
   "metadata": {
    "ExecuteTime": {
     "end_time": "2024-11-14T02:34:51.142884Z",
     "start_time": "2024-11-14T02:34:51.128915Z"
    }
   },
   "cell_type": "code",
   "source": [
    "local_model = \"llama3.2:latest\"\n",
    "#local_model = \"granite3-dense:8b\"\n",
    "llm = ChatOllama(model=local_model)\n",
    "\n",
    "query_prompt = PromptTemplate(\n",
    "    input_variables=[\"question\"],\n",
    "    template=\"\"\"You are an AI language model assistant.  Your task is to generate 2 \n",
    "    different versions of the give user question to retrieve relevant documents from\n",
    "    a vector database. By generating multiple perspectives on user question, your\n",
    "    goal is to help users overcome some of the limitations of distance-based\n",
    "    similarity search. Provide these alternative questions separated by newlines.\n",
    "    Original question: {question}\"\"\"\n",
    ")\n",
    "retriever = MultiQueryRetriever.from_llm(\n",
    "    chroma_db.as_retriever(),\n",
    "    llm,\n",
    "    prompt=query_prompt\n",
    ")"
   ],
   "id": "11dd4096cfbb58d8",
   "outputs": [],
   "execution_count": 7
  },
  {
   "metadata": {},
   "cell_type": "markdown",
   "source": "## Create Chain",
   "id": "9e0034cdbcf523f7"
  },
  {
   "metadata": {
    "ExecuteTime": {
     "end_time": "2024-11-14T02:34:57.941165Z",
     "start_time": "2024-11-14T02:34:57.938950Z"
    }
   },
   "cell_type": "code",
   "source": [
    "template = \"\"\"Answer the question on on the following context: \n",
    "{context}\n",
    "Question: {question}\n",
    "\"\"\"\n",
    "prompt = ChatPromptTemplate.from_template(template)"
   ],
   "id": "f3bd3a6d7cef32b9",
   "outputs": [],
   "execution_count": 8
  },
  {
   "metadata": {},
   "cell_type": "markdown",
   "source": "",
   "id": "537a3230ebcdf381"
  },
  {
   "metadata": {
    "ExecuteTime": {
     "end_time": "2024-11-14T02:35:02.834436Z",
     "start_time": "2024-11-14T02:35:02.831547Z"
    }
   },
   "cell_type": "code",
   "source": [
    "chain = (\n",
    "    {\"context\": retriever, \"question\": RunnablePassthrough()}\n",
    "    | prompt\n",
    "    | llm\n",
    "    | StrOutputParser()\n",
    ")"
   ],
   "id": "759ea464a68f7876",
   "outputs": [],
   "execution_count": 9
  },
  {
   "metadata": {
    "ExecuteTime": {
     "end_time": "2024-11-14T02:35:06.092795Z",
     "start_time": "2024-11-14T02:35:06.090711Z"
    }
   },
   "cell_type": "code",
   "source": [
    "def chat_with_pdf(question): \n",
    "    \"\"\"\n",
    "    Chat with the PDF using our chain\n",
    "    \"\"\"\n",
    "    return display(Markdown(chain.invoke(question)))\n"
   ],
   "id": "eed9bd1b5fcdf89c",
   "outputs": [],
   "execution_count": 10
  },
  {
   "metadata": {
    "ExecuteTime": {
     "end_time": "2024-11-14T02:35:22.424723Z",
     "start_time": "2024-11-14T02:35:14.009933Z"
    }
   },
   "cell_type": "code",
   "source": "chat_with_pdf(\"Summarize this pdf\")",
   "id": "4ac489fbaf2bea48",
   "outputs": [
    {
     "data": {
      "text/plain": [
       "<IPython.core.display.Markdown object>"
      ],
      "text/markdown": "This PDF appears to be a manual for a Toyota vehicle, specifically providing instructions and guidelines for the safe use of the vehicle's safety features, including the seat belt system.\n\nThe manual covers various topics related to driver and passenger safety, such as:\n\n1. Installing and using child restraints\n2. Removing and installing seat belts\n3. Adjusting the seat and steering wheel for proper fit\n4. Using the seat belt correctly\n5. Troubleshooting common issues with the seat belt system\n\nThe manual also provides general safety tips and reminders, such as:\n\n* Always wearing a seat belt\n* Keeping the vehicle's interior clean and free of distractions\n* Regularly checking the condition of the seat belts for signs of wear or damage\n\nAdditionally, the manual includes information on maintaining the vehicle's electrical systems, including the battery and charging system.\n\nOverall, this PDF appears to be a comprehensive guide for drivers and passengers to ensure safe and secure transportation in their Toyota vehicle."
     },
     "metadata": {},
     "output_type": "display_data"
    }
   ],
   "execution_count": 11
  },
  {
   "metadata": {
    "ExecuteTime": {
     "end_time": "2024-11-11T18:24:32.232231Z",
     "start_time": "2024-11-11T18:24:29.857198Z"
    }
   },
   "cell_type": "code",
   "source": [
    "#granite \n",
    "chat_with_pdf(\"What were you asked to do in the last step?\")"
   ],
   "id": "2c5a82f05b3b098f",
   "outputs": [
    {
     "data": {
      "text/plain": [
       "<IPython.core.display.Markdown object>"
      ],
      "text/markdown": "You didn't ask me to do anything in this conversation yet. This is the first message you've sent. Would you like to ask me something or provide a task for me to complete? I'm here to help!"
     },
     "metadata": {},
     "output_type": "display_data"
    }
   ],
   "execution_count": 47
  },
  {
   "metadata": {},
   "cell_type": "markdown",
   "source": "",
   "id": "ab8c616ba1632a4f"
  },
  {
   "metadata": {},
   "cell_type": "markdown",
   "source": "## Cleanup",
   "id": "56e179be79eaf51f"
  },
  {
   "metadata": {},
   "cell_type": "markdown",
   "source": "",
   "id": "8446279aab818f54"
  },
  {
   "metadata": {
    "ExecuteTime": {
     "end_time": "2024-11-14T02:42:35.357744Z",
     "start_time": "2024-11-14T02:42:35.342356Z"
    }
   },
   "cell_type": "code",
   "source": [
    "chroma_db.delete_collection()\n",
    "print(\"Vector database deleted successfully\")"
   ],
   "id": "23da487b357eb24b",
   "outputs": [
    {
     "name": "stdout",
     "output_type": "stream",
     "text": [
      "Vector database deleted successfully\n"
     ]
    }
   ],
   "execution_count": 13
  },
  {
   "metadata": {},
   "cell_type": "markdown",
   "source": "",
   "id": "f4f450aa28eb19e0"
  }
 ],
 "metadata": {
  "kernelspec": {
   "display_name": "Python 3",
   "language": "python",
   "name": "python3"
  },
  "language_info": {
   "codemirror_mode": {
    "name": "ipython",
    "version": 2
   },
   "file_extension": ".py",
   "mimetype": "text/x-python",
   "name": "python",
   "nbconvert_exporter": "python",
   "pygments_lexer": "ipython2",
   "version": "2.7.6"
  }
 },
 "nbformat": 4,
 "nbformat_minor": 5
}
