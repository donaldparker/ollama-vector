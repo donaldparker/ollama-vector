{
 "cells": [
  {
   "metadata": {},
   "cell_type": "markdown",
   "source": [
    "# Ollama PDF RAG\n",
    "\n",
    "## Import Libraries"
   ],
   "id": "1a63f6f68b6cf595"
  },
  {
   "metadata": {
    "ExecuteTime": {
     "end_time": "2024-11-30T18:17:07.314291Z",
     "start_time": "2024-11-30T18:17:07.309810Z"
    }
   },
   "cell_type": "code",
   "source": [
    "from langchain_community.document_loaders import UnstructuredPDFLoader\n",
    "from langchain_ollama import OllamaEmbeddings\n",
    "from langchain_text_splitters import RecursiveCharacterTextSplitter\n",
    "from langchain_community.vectorstores import PGVector\n",
    "from langchain_community.vectorstores import Chroma\n",
    "from langchain.prompts import ChatPromptTemplate, PromptTemplate\n",
    "from langchain_core.output_parsers import StrOutputParser\n",
    "from langchain_ollama.chat_models import ChatOllama\n",
    "from langchain_core.runnables import RunnablePassthrough\n",
    "from langchain.retrievers.multi_query import MultiQueryRetriever\n",
    "from langchain.memory import ConversationBufferMemory\n",
    "\n",
    "from dotenv import load_dotenv\n",
    "load_dotenv(dotenv_path='.env')\n",
    "\n",
    "#suppress warnings\n",
    "import warnings\n",
    "warnings.filterwarnings('ignore')\n",
    "\n",
    "from IPython.display import display, Markdown\n",
    "\n"
   ],
   "id": "f199985e96b038ed",
   "outputs": [],
   "execution_count": 2
  },
  {
   "metadata": {},
   "cell_type": "markdown",
   "source": "",
   "id": "39cae2b79b97204c"
  },
  {
   "metadata": {},
   "cell_type": "markdown",
   "source": "## Load PDFs",
   "id": "5a7822535fc7285c"
  },
  {
   "metadata": {
    "ExecuteTime": {
     "end_time": "2024-11-30T18:17:21.368607Z",
     "start_time": "2024-11-30T18:17:13.313697Z"
    }
   },
   "cell_type": "code",
   "source": [
    "paths = [\n",
    "    \"/Users/donaldparker/Projects/lab/rag/ollama-pgvector/pdfs/koi_nih.pdf\",\n",
    "    \"/Users/donaldparker/Projects/lab/rag/ollama-pgvector/pdfs/koi_khv_001.pdf\",\n",
    "    \"/Users/donaldparker/Projects/lab/rag/ollama-pgvector/pdfs/koi_khv_002.pdf\"\n",
    "]\n",
    "#load_path = \"/Users/donaldparker/Projects/lab/rag/ollama-pgvector/pdfs/koi_nih.pdf\"\n",
    "\n",
    "# loader = UnstructuredPDFLoader(file_path=load_path)\n",
    "# pdf_data = loader.load()\n",
    "\n",
    "docs = [UnstructuredPDFLoader(file_path=path).load() for path in paths]\n",
    "docs_list = [item for sublist in docs for item in sublist]\n",
    "print(f\"PDF Loaded successfully\")\n"
   ],
   "id": "9a4e32463fc6a3b7",
   "outputs": [
    {
     "name": "stdout",
     "output_type": "stream",
     "text": [
      "PDF Loaded successfully\n"
     ]
    }
   ],
   "execution_count": 3
  },
  {
   "metadata": {},
   "cell_type": "markdown",
   "source": "## Split text into chunks",
   "id": "421a124b5bb681be"
  },
  {
   "metadata": {
    "ExecuteTime": {
     "end_time": "2024-11-30T18:17:38.161011Z",
     "start_time": "2024-11-30T18:17:38.150268Z"
    }
   },
   "cell_type": "code",
   "source": [
    "text_splitter = RecursiveCharacterTextSplitter(chunk_size=1000, chunk_overlap=200)\n",
    "chunks = text_splitter.split_documents(docs_list)\n",
    "print(f\"Text split into {len(chunks)} chunks\")"
   ],
   "id": "eebed222861c7351",
   "outputs": [
    {
     "name": "stdout",
     "output_type": "stream",
     "text": [
      "Text split into 205 chunks\n"
     ]
    }
   ],
   "execution_count": 5
  },
  {
   "metadata": {},
   "cell_type": "markdown",
   "source": "## Vector Database",
   "id": "b64a2fbfc26b616c"
  },
  {
   "metadata": {
    "ExecuteTime": {
     "end_time": "2024-11-30T18:17:47.796546Z",
     "start_time": "2024-11-30T18:17:41.719064Z"
    }
   },
   "cell_type": "code",
   "source": [
    "collection_name=\"rag-koi\"\n",
    "chroma_db = Chroma.from_documents(\n",
    "    documents=chunks,\n",
    "    embedding=OllamaEmbeddings(model=\"nomic-embed-text\"),\n",
    "    collection_name=collection_name\n",
    ")\n",
    "pgvector_db = PGVector.from_documents(\n",
    "    collection_name=collection_name,\n",
    "    documents=chunks,\n",
    "    embedding=OllamaEmbeddings(model=\"nomic-embed-text\"),\n",
    "    use_jsonb=True\n",
    ")\n",
    "\n",
    "print(f\"Vector database created successfully\")"
   ],
   "id": "bf69fdea3c75a162",
   "outputs": [
    {
     "name": "stdout",
     "output_type": "stream",
     "text": [
      "Vector database created successfully\n"
     ]
    }
   ],
   "execution_count": 6
  },
  {
   "metadata": {},
   "cell_type": "markdown",
   "source": "## Set LLM and Retrieval",
   "id": "301ec2dbd553bf0a"
  },
  {
   "metadata": {
    "ExecuteTime": {
     "end_time": "2024-11-30T18:17:53.448994Z",
     "start_time": "2024-11-30T18:17:53.435398Z"
    }
   },
   "cell_type": "code",
   "source": [
    "local_model = \"llama3.2:latest\"\n",
    "#local_model = \"granite3-dense:8b\"\n",
    "llm = ChatOllama(model=local_model)\n",
    "\n",
    "query_prompt = PromptTemplate(\n",
    "    input_variables=[\"question\"],\n",
    "    template=\"\"\"You are an AI language model assistant.  Your task is to generate 2 \n",
    "    different versions of the give user question to retrieve relevant documents from\n",
    "    a vector database. By generating multiple perspectives on user question, your\n",
    "    goal is to help users overcome some of the limitations of distance-based\n",
    "    similarity search. Provide these alternative questions separated by newlines.\n",
    "    Original question: {question}\"\"\"\n",
    ")\n",
    "retriever = MultiQueryRetriever.from_llm(\n",
    "    chroma_db.as_retriever(),\n",
    "    llm,\n",
    "    prompt=query_prompt\n",
    ")"
   ],
   "id": "11dd4096cfbb58d8",
   "outputs": [],
   "execution_count": 7
  },
  {
   "metadata": {},
   "cell_type": "markdown",
   "source": "## Create Chain",
   "id": "9e0034cdbcf523f7"
  },
  {
   "metadata": {
    "ExecuteTime": {
     "end_time": "2024-11-26T17:32:50.634849Z",
     "start_time": "2024-11-26T17:32:50.632030Z"
    }
   },
   "cell_type": "code",
   "source": [
    "template = \"\"\"Answer the question on on the following context: \n",
    "{context}\n",
    "Question: {question}\n",
    "\"\"\"\n",
    "prompt = ChatPromptTemplate.from_template(template)"
   ],
   "id": "f3bd3a6d7cef32b9",
   "outputs": [],
   "execution_count": 9
  },
  {
   "metadata": {},
   "cell_type": "markdown",
   "source": "",
   "id": "537a3230ebcdf381"
  },
  {
   "metadata": {
    "ExecuteTime": {
     "end_time": "2024-11-26T17:32:53.009626Z",
     "start_time": "2024-11-26T17:32:53.005732Z"
    }
   },
   "cell_type": "code",
   "source": [
    "chain = (\n",
    "    {\"context\": retriever, \"question\": RunnablePassthrough()}\n",
    "    | prompt\n",
    "    | llm\n",
    "    | StrOutputParser()\n",
    ")"
   ],
   "id": "759ea464a68f7876",
   "outputs": [],
   "execution_count": 10
  },
  {
   "metadata": {
    "ExecuteTime": {
     "end_time": "2024-11-26T17:32:56.200207Z",
     "start_time": "2024-11-26T17:32:56.197479Z"
    }
   },
   "cell_type": "code",
   "source": [
    "def chat_with_pdf(question): \n",
    "    \"\"\"\n",
    "    Chat with the PDF using our chain\n",
    "    \"\"\"\n",
    "    return display(Markdown(chain.invoke(question)))\n"
   ],
   "id": "eed9bd1b5fcdf89c",
   "outputs": [],
   "execution_count": 11
  },
  {
   "metadata": {
    "ExecuteTime": {
     "end_time": "2024-11-26T17:33:58.555046Z",
     "start_time": "2024-11-26T17:33:50.068244Z"
    }
   },
   "cell_type": "code",
   "source": "chat_with_pdf(\"In 4 paragraphs summarize this some of the preventative measures to prevent KHV?\")",
   "id": "4ac489fbaf2bea48",
   "outputs": [
    {
     "data": {
      "text/plain": [
       "<IPython.core.display.Markdown object>"
      ],
      "text/markdown": "Here is a summary of some preventative measures to prevent KHV (Koi Herpes Virus) in 4 paragraphs:\n\nTo prevent KHV, breeders and aquarists can take several steps. One crucial measure is to ensure proper water quality and hygiene practices. This includes regularly testing water parameters such as pH, ammonia, nitrite, and nitrate levels, and making adjustments as necessary to maintain optimal conditions for the fish. Additionally, frequent cleaning and disinfection of equipment, filters, and tanks can help prevent the spread of the virus.\n\nAnother preventative measure is to implement good biosecurity practices. This includes isolating new fish or stock before introducing them to a main tank, and quarantining any sick fish to prevent the spread of disease. It's also essential to monitor fish health closely and remove any infected or suspect fish from the water immediately. Furthermore, using physical barriers such as netting or screens can help prevent the introduction of infected fish into the tank.\n\nIn addition to these measures, incorporating certain supplements and treatments into the water can help boost the immune system of Koi and prevent disease. For example, using essential oils derived from plants like Lippia spp. has been shown to have anti-parasitic properties that can help prevent the spread of KHV. Other natural remedies such as spore proteins from Myxobolus Koi or red ginger have also been explored as antihelminthic agents for controlling infections in Koi fish.\n\nFinally, some breeders and aquarists are exploring the use of prophylactic treatments to prevent KHV outbreaks. These can include antibiotics, antiviral medications, or other supplements that target the virus specifically. It's essential to note that these treatments should only be used under the guidance of a veterinarian or experienced aquarist, as overuse or misuse can lead to antibiotic resistance and other problems. By taking a multi-faceted approach to prevention, Koi farmers and enthusiasts can reduce the risk of KHV outbreaks and ensure the health and well-being of their fish."
     },
     "metadata": {},
     "output_type": "display_data"
    }
   ],
   "execution_count": 12
  },
  {
   "metadata": {
    "ExecuteTime": {
     "end_time": "2024-11-11T18:24:32.232231Z",
     "start_time": "2024-11-11T18:24:29.857198Z"
    }
   },
   "cell_type": "code",
   "source": [
    "#granite \n",
    "chat_with_pdf(\"What were you asked to do in the last step?\")"
   ],
   "id": "2c5a82f05b3b098f",
   "outputs": [
    {
     "data": {
      "text/plain": [
       "<IPython.core.display.Markdown object>"
      ],
      "text/markdown": "You didn't ask me to do anything in this conversation yet. This is the first message you've sent. Would you like to ask me something or provide a task for me to complete? I'm here to help!"
     },
     "metadata": {},
     "output_type": "display_data"
    }
   ],
   "execution_count": 47
  },
  {
   "metadata": {},
   "cell_type": "markdown",
   "source": "",
   "id": "ab8c616ba1632a4f"
  },
  {
   "metadata": {},
   "cell_type": "markdown",
   "source": "## Cleanup",
   "id": "56e179be79eaf51f"
  },
  {
   "metadata": {},
   "cell_type": "markdown",
   "source": "",
   "id": "8446279aab818f54"
  },
  {
   "metadata": {
    "ExecuteTime": {
     "end_time": "2024-11-14T02:42:35.357744Z",
     "start_time": "2024-11-14T02:42:35.342356Z"
    }
   },
   "cell_type": "code",
   "source": [
    "chroma_db.delete_collection()\n",
    "print(\"Vector database deleted successfully\")"
   ],
   "id": "23da487b357eb24b",
   "outputs": [
    {
     "name": "stdout",
     "output_type": "stream",
     "text": [
      "Vector database deleted successfully\n"
     ]
    }
   ],
   "execution_count": 13
  },
  {
   "metadata": {},
   "cell_type": "markdown",
   "source": "",
   "id": "f4f450aa28eb19e0"
  }
 ],
 "metadata": {
  "kernelspec": {
   "display_name": "Python 3",
   "language": "python",
   "name": "python3"
  },
  "language_info": {
   "codemirror_mode": {
    "name": "ipython",
    "version": 2
   },
   "file_extension": ".py",
   "mimetype": "text/x-python",
   "name": "python",
   "nbconvert_exporter": "python",
   "pygments_lexer": "ipython2",
   "version": "2.7.6"
  }
 },
 "nbformat": 4,
 "nbformat_minor": 5
}
