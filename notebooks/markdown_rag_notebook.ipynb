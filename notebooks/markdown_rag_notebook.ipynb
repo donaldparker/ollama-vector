{
 "cells": [
  {
   "cell_type": "code",
   "id": "initial_id",
   "metadata": {
    "collapsed": true,
    "ExecuteTime": {
     "end_time": "2024-11-30T18:39:19.243368Z",
     "start_time": "2024-11-30T18:39:19.239932Z"
    }
   },
   "source": [
    "import glob\n",
    "import os\n",
    "from langchain_community.document_loaders import UnstructuredMarkdownLoader\n",
    "from langchain_ollama import OllamaEmbeddings\n",
    "from langchain_text_splitters import RecursiveCharacterTextSplitter\n",
    "from langchain_community.vectorstores import PGVector\n",
    "from langchain.prompts import ChatPromptTemplate, PromptTemplate\n",
    "from langchain_core.output_parsers import StrOutputParser\n",
    "from langchain_ollama.chat_models import ChatOllama\n",
    "from langchain_core.runnables import RunnablePassthrough\n",
    "from langchain.retrievers.multi_query import MultiQueryRetriever\n",
    "from IPython.display import display, Markdown\n",
    "\n",
    "from dotenv import load_dotenv\n",
    "load_dotenv(dotenv_path='.env')\n",
    "\n",
    "#suppress warnings\n",
    "import warnings\n",
    "warnings.filterwarnings('ignore')"
   ],
   "outputs": [],
   "execution_count": 20
  },
  {
   "metadata": {},
   "cell_type": "code",
   "outputs": [],
   "execution_count": null,
   "source": [
    "md_path = f\"/Users/donaldparker/Projects/lab/rag/ollama-pgvector/wikis/itrvl.wiki/*.md\"\n",
    "print(f\"Loading files from: {md_path}\")\n",
    "paths = glob.glob(f\"{md_path}\")\n",
    "\n",
    "docs = [UnstructuredMarkdownLoader(file_path=path).load() for path in paths]\n",
    "docs_list = [item for sublist in docs for item in sublist]\n",
    "print(f\"Loaded {len(docs_list)} documents\")"
   ],
   "id": "4fc8bb7195b0f553"
  },
  {
   "metadata": {},
   "cell_type": "code",
   "outputs": [],
   "execution_count": null,
   "source": [
    "text_splitter = RecursiveCharacterTextSplitter(chunk_size=1000, chunk_overlap=200)\n",
    "chunks = text_splitter.split_documents(docs_list)\n",
    "print(f\"Text split into {len(chunks)} chunks\")"
   ],
   "id": "e262f7a0c85362a3"
  },
  {
   "metadata": {},
   "cell_type": "code",
   "outputs": [],
   "execution_count": null,
   "source": [
    "collection_name=\"rag-itrvl-wiki\"\n",
    "pgvector_db = PGVector.from_documents(\n",
    "    collection_name=collection_name,\n",
    "    documents=chunks,\n",
    "    embedding=OllamaEmbeddings(model=\"nomic-embed-text\"),\n",
    "    use_jsonb=True\n",
    ")\n",
    "\n",
    "print(f\"Vector database created successfully\")"
   ],
   "id": "a2f6860532ed893a"
  },
  {
   "metadata": {},
   "cell_type": "code",
   "outputs": [],
   "execution_count": null,
   "source": [
    "local_model = \"llama3.2:latest\"\n",
    "llm = ChatOllama(model=local_model)\n",
    "\n",
    "query_prompt = PromptTemplate(\n",
    "    input_variables=[\"question\"],\n",
    "    template=\"\"\"You are an AI language model assistant.  Your task is to generate 2 \n",
    "    different versions of the give user question to retrieve relevant documents from\n",
    "    a vector database. By generating multiple perspectives on user question, your\n",
    "    goal is to help users overcome some of the limitations of distance-based\n",
    "    similarity search. Provide these alternative questions separated by newlines.\n",
    "    Original question: {question}\"\"\"\n",
    ")\n",
    "\n",
    "retriever = MultiQueryRetriever.from_llm(\n",
    "    pgvector_db.as_retriever(),\n",
    "    llm,\n",
    "    prompt=query_prompt\n",
    ")"
   ],
   "id": "e9b55b17ca9714bd"
  },
  {
   "metadata": {},
   "cell_type": "code",
   "outputs": [],
   "execution_count": null,
   "source": [
    "template = \"\"\"Answer the question on on the following context: \n",
    "{context}\n",
    "Question: {question}\n",
    "\"\"\"\n",
    "prompt = ChatPromptTemplate.from_template(template)"
   ],
   "id": "64f728a8f11a3818"
  },
  {
   "metadata": {},
   "cell_type": "code",
   "outputs": [],
   "execution_count": null,
   "source": [
    "chain = (\n",
    "    {\"context\": retriever, \"question\": RunnablePassthrough()}\n",
    "    | prompt\n",
    "    | llm\n",
    "    | StrOutputParser()\n",
    ")"
   ],
   "id": "4999c72567353fe7"
  },
  {
   "metadata": {},
   "cell_type": "code",
   "outputs": [],
   "execution_count": null,
   "source": [
    "def chat_with_documents(question): \n",
    "    \"\"\"\n",
    "    Chat with the PDF using our chain\n",
    "    \"\"\"\n",
    "    return display(Markdown(chain.invoke(question)))"
   ],
   "id": "519c8229b4e7f57d"
  },
  {
   "metadata": {
    "ExecuteTime": {
     "end_time": "2024-11-30T18:45:36.626177Z",
     "start_time": "2024-11-30T18:45:31.368804Z"
    }
   },
   "cell_type": "code",
   "source": "chat_with_documents(\"What are services that are provided by itrvl?\")",
   "id": "37349d3e7c8edec6",
   "outputs": [
    {
     "data": {
      "text/plain": [
       "<IPython.core.display.Markdown object>"
      ],
      "text/markdown": "Based on the context, it appears that itrvl provides a range of services related to trip planning and management. The documents mention various features and functionalities, such as:\n\n1. Itinerary building: Allowing users to create customized itineraries with links, photos, videos, and other media.\n2. Saved Itineraries: Enabling users to save their itineraries for future reference or to share with others.\n3. Client Portal: Providing a platform for clients to view and manage their itineraries, including access to photos, videos, and accommodation stays.\n4. Media components: Allowing agents to upload and manage media content, such as photos and videos, for activities.\n5. Agency onboarding: Facilitating the setup of new agency accounts, inviting lead agents, and allowing them to log in and agree to terms.\n6. User stories: Defining the features and functionalities of itrvl, including user experience, functionality, and acceptance criteria.\n\nSome services that can be inferred from these documents include:\n\n1. Trip planning and management\n2. Itinerary building and customization\n3. Media content management (photos, videos, etc.)\n4. Client portal access for clients to view and manage their itineraries\n5. Agency onboarding and management\n6. User experience and functionality enhancements\n\nHowever, the documents do not explicitly mention all services provided by itrvl. Further information would be needed to determine a comprehensive list of services offered by itrvl."
     },
     "metadata": {},
     "output_type": "display_data"
    }
   ],
   "execution_count": 32
  },
  {
   "metadata": {},
   "cell_type": "markdown",
   "source": "",
   "id": "ff9d61167cd01a6f"
  },
  {
   "metadata": {
    "ExecuteTime": {
     "end_time": "2024-11-30T18:48:50.552752Z",
     "start_time": "2024-11-30T18:48:40.522080Z"
    }
   },
   "cell_type": "code",
   "source": "chat_with_documents(\"Can you describe services iTrvl provides?  Please provide 2 paragraphs of each.\")",
   "id": "2e908bd6b2aec57e",
   "outputs": [
    {
     "data": {
      "text/plain": [
       "<IPython.core.display.Markdown object>"
      ],
      "text/markdown": "**General Info Services**\n\niTrvl appears to provide various services for travel agents, tour operators, and other industry stakeholders. One primary service is the General Info tab, which allows agents to access and manage essential information about destinations, activities, and accommodations. This includes features such as uploading photos and videos, deleting uploaded content, and reordering or rearranging media assets. The General Info tab provides a centralized platform for managing this type of information, making it easier for agents to stay organized and up-to-date.\n\nAnother key service provided by iTrvl is the Media component, which enables agents to upload and manage multimedia content related to their destinations and activities. This includes photos, videos, and other digital assets that can be used to showcase tour offerings, promote products, or enhance customer engagement. The Media tab provides a convenient interface for uploading, editing, and managing this content, ensuring that it is easily accessible and easily shared with clients.\n\n**Client Portal Services**\n\niTrvl also appears to provide a Client Portal service, which allows clients to access and manage their itinerary information online. This portal enables clients to view, edit, and save their trip details, including activities, accommodations, and other travel arrangements. The Client Portal reflects changes to the client's itinerary in real-time, ensuring that all stakeholders are aware of any updates or changes. Additionally, the portal provides a user-friendly interface for clients to communicate with agents, submit requests, or request changes to their itinerary.\n\nThe Client Portal service also includes features such as sorting and filtering options for photos and videos, making it easier for clients to find specific content related to their trip. Overall, the Client Portal is designed to enhance client satisfaction by providing a convenient, user-friendly interface for managing travel arrangements and staying connected with agents. By leveraging this portal, iTrvl aims to build stronger relationships with its clients and provide a more personalized experience.\n\n**Additional Services**\n\nIn addition to General Info and Client Portal services, iTrvl may offer other features and functionalities to support the business operations of its customers. These could include advanced reporting tools, customizable dashboards, or integration with other third-party systems. The specific services offered by iTrvl would depend on the needs and requirements of its target market, as well as the company's overall goals and objectives.\n\nSome potential additional services that iTrvl may provide include:\n\n* Integration with existing CRM systems to streamline sales and marketing efforts\n* Customizable reporting templates to help agents analyze sales data and track key performance indicators (KPIs)\n* Advanced search functionality to enable clients to quickly find specific destinations, activities, or accommodations\n* Automated workflows and notifications to ensure seamless communication between agents and clients\n\nBy offering a range of services and functionalities, iTrvl can help its customers streamline their operations, improve client satisfaction, and stay competitive in the market."
     },
     "metadata": {},
     "output_type": "display_data"
    }
   ],
   "execution_count": 33
  },
  {
   "metadata": {
    "ExecuteTime": {
     "end_time": "2024-11-30T18:49:56.951473Z",
     "start_time": "2024-11-30T18:49:52.698603Z"
    }
   },
   "cell_type": "code",
   "source": "chat_with_documents(\"What are the steps of the code review process?\")",
   "id": "20828479ead7b6ce",
   "outputs": [
    {
     "data": {
      "text/plain": [
       "<IPython.core.display.Markdown object>"
      ],
      "text/markdown": "Based on the provided documents, the steps of the code review process can be summarized as follows:\n\n1. Tasks to be done before requesting for a Code Reviewer:\n * PR Branch name is ready (e.g. dev-1234)\n * Prefix title of the Pull Request using semantic-release's format\n * PR has latest master updates\n * All automated tests are passing\n * Code coverage meets or exceeds threshold\n * Acceptance criteria has been met\n * PR has reference to ZenHub issue number\n * No red/yellow box errors\n * Documentation is updated\n\n2. Code Reviewer Checklist:\n * Product Code conforms to standards (wiki link - tbd)\n * Test code conforms to standards (wiki link - tbd)\n * Code coverage meets threshold\n * Documentation has been updated\n * Commits are squashed if necessary\n * Branch name conforms to standards\n\n3. Additional steps mentioned in the documents:\n * The PR Owner should annotate the PR to clarify intentions and highlight specific areas for feedback.\n * The PR Owner should clearly describe the change intention in commit messages.\n * After updating a PR, the PR Owner should re-request review from the code reviewer.\n\nIt's worth noting that these steps are outlined in the Code Reviews.md document, which provides guidelines for both PR Owners and Code Reviewers."
     },
     "metadata": {},
     "output_type": "display_data"
    }
   ],
   "execution_count": 34
  },
  {
   "metadata": {
    "ExecuteTime": {
     "end_time": "2024-11-30T18:39:28.605175Z",
     "start_time": "2024-11-30T18:39:26.701354Z"
    }
   },
   "cell_type": "code",
   "source": [
    "pgvector_db.delete_collection()\n",
    "print(\"Vector database deleted successfully\")"
   ],
   "id": "5b896026fba9626d",
   "outputs": [
    {
     "name": "stdout",
     "output_type": "stream",
     "text": [
      "Vector database created successfully\n"
     ]
    }
   ],
   "execution_count": 23
  },
  {
   "metadata": {
    "ExecuteTime": {
     "end_time": "2024-11-30T18:39:30.478872Z",
     "start_time": "2024-11-30T18:39:30.467218Z"
    }
   },
   "cell_type": "code",
   "source": "",
   "id": "e364c64c1b463c3d",
   "outputs": [],
   "execution_count": 24
  },
  {
   "metadata": {},
   "cell_type": "markdown",
   "source": "",
   "id": "78799a0db626297f"
  },
  {
   "metadata": {
    "ExecuteTime": {
     "end_time": "2024-11-30T18:39:36.049839Z",
     "start_time": "2024-11-30T18:39:36.046663Z"
    }
   },
   "cell_type": "code",
   "source": "",
   "id": "d98f9437c6a7c9ef",
   "outputs": [],
   "execution_count": 26
  },
  {
   "metadata": {},
   "cell_type": "markdown",
   "source": "",
   "id": "3eed0045aa83fae8"
  },
  {
   "metadata": {
    "ExecuteTime": {
     "end_time": "2024-11-30T18:39:37.889013Z",
     "start_time": "2024-11-30T18:39:37.884006Z"
    }
   },
   "cell_type": "code",
   "source": "",
   "id": "676ba1a41383717d",
   "outputs": [],
   "execution_count": 27
  },
  {
   "metadata": {
    "ExecuteTime": {
     "end_time": "2024-11-30T18:39:40.227486Z",
     "start_time": "2024-11-30T18:39:40.224948Z"
    }
   },
   "cell_type": "code",
   "source": "",
   "id": "52cbd655490ddd30",
   "outputs": [],
   "execution_count": 28
  },
  {
   "metadata": {
    "ExecuteTime": {
     "end_time": "2024-11-30T18:40:54.417202Z",
     "start_time": "2024-11-30T18:40:49.742698Z"
    }
   },
   "cell_type": "code",
   "source": "",
   "id": "8441b3e22067f12a",
   "outputs": [
    {
     "data": {
      "text/plain": [
       "<IPython.core.display.Markdown object>"
      ],
      "text/markdown": "The documents provided appear to be from a developer's guild meeting, specifically from April 17, 2024, and August 20, 2024. The first document discusses proposed agendas for the meeting, including proposals from Don Parker and Eddi regarding API testing and models. However, the content of this document seems incomplete as it only provides snippets of text.\n\nThe second document, \"Quoting-Tests.md\", outlines three types of test windows: transfers between Botswana and Zimbabwe, transfers between Johannesburg and Kruger, and transfers between Cape Town and Kruger. The document appears to be a list of test cases or scenarios that need to be implemented.\n\nThe third and fourth documents, both titled \"User-Stories.md\", provide information on how to write user stories in the context of software development. They outline five key elements: title/name, description, acceptance criteria and tests, attachments, and implementation notes. The documents seem to be providing guidance on how to structure and implement user stories in a way that is clear, concise, and comprehensive."
     },
     "metadata": {},
     "output_type": "display_data"
    }
   ],
   "execution_count": 29
  },
  {
   "metadata": {},
   "cell_type": "markdown",
   "source": "",
   "id": "78c4f209d4fde250"
  },
  {
   "metadata": {},
   "cell_type": "markdown",
   "source": "",
   "id": "51cee02da4933808"
  },
  {
   "metadata": {},
   "cell_type": "markdown",
   "source": "",
   "id": "7d14ff0eba572076"
  }
 ],
 "metadata": {
  "kernelspec": {
   "display_name": "Python 3",
   "language": "python",
   "name": "python3"
  },
  "language_info": {
   "codemirror_mode": {
    "name": "ipython",
    "version": 2
   },
   "file_extension": ".py",
   "mimetype": "text/x-python",
   "name": "python",
   "nbconvert_exporter": "python",
   "pygments_lexer": "ipython2",
   "version": "2.7.6"
  }
 },
 "nbformat": 4,
 "nbformat_minor": 5
}
