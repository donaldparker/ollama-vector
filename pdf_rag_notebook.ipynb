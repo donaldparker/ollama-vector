{
 "cells": [
  {
   "metadata": {},
   "cell_type": "markdown",
   "source": [
    "# Ollama PDF RAG\n",
    "\n",
    "## Import Libraries"
   ],
   "id": "1a63f6f68b6cf595"
  },
  {
   "metadata": {},
   "cell_type": "code",
   "outputs": [],
   "execution_count": null,
   "source": [
    "from click import prompt\n",
    "from langchain_community.document_loaders import UnstructuredPDFLoader\n",
    "from langchain_ollama import OllamaEmbeddings\n",
    "from langchain_text_splitters import RecursiveCharacterTextSplitter\n",
    "from langchain_community.vectorstores import PGVector\n",
    "from langchain_community.vectorstores import Chroma\n",
    "from langchain.prompts import ChatPromptTemplate, PromptTemplate\n",
    "from langchain_core.output_parsers import StrOutputParser\n",
    "from langchain_ollama.chat_models import ChatOllama\n",
    "from langchain_core.runnables import RunnablePassthrough\n",
    "from langchain.retrievers.multi_query import MultiQueryRetriever\n",
    "\n",
    "#suppress warnings\n",
    "import warnings\n",
    "warnings.filterwarnings('ignore')\n",
    "\n",
    "from IPython.display import display, Markdown\n",
    "\n",
    "import os \n",
    "os.environ[\"PROTOCOL_BUFFERS_PYTHON_IMPLEMETATION\"] = \"python\"\n"
   ],
   "id": "f199985e96b038ed"
  },
  {
   "metadata": {},
   "cell_type": "markdown",
   "source": "",
   "id": "39cae2b79b97204c"
  },
  {
   "metadata": {},
   "cell_type": "markdown",
   "source": "## Load PDFs",
   "id": "5a7822535fc7285c"
  },
  {
   "metadata": {
    "ExecuteTime": {
     "end_time": "2024-11-10T17:15:14.056216Z",
     "start_time": "2024-11-10T17:14:34.130795Z"
    }
   },
   "cell_type": "code",
   "source": [
    "load_path = \"/Users/donaldparker/Projects/lab/rag/ollama-pgvector/pdfs/tacoma-2019.pdf\"\n",
    "if load_path:\n",
    "    loader = UnstructuredPDFLoader(file_path=load_path)\n",
    "    pdf_data = loader.load()\n",
    "    print(f\"PDF Loaded successfully: {load_path}\")\n",
    "else:\n",
    "    print(f\"Unable to load PDF\")"
   ],
   "id": "9a4e32463fc6a3b7",
   "outputs": [
    {
     "name": "stdout",
     "output_type": "stream",
     "text": [
      "PDF Loaded successfully: /Users/donaldparker/Projects/lab/rag/ollama-pgvector/pdfs/tacoma-2019.pdf\n"
     ]
    }
   ],
   "execution_count": 5
  },
  {
   "metadata": {},
   "cell_type": "markdown",
   "source": "## Split text into chunks",
   "id": "421a124b5bb681be"
  },
  {
   "metadata": {
    "ExecuteTime": {
     "end_time": "2024-11-10T17:15:26.676521Z",
     "start_time": "2024-11-10T17:15:26.654264Z"
    }
   },
   "cell_type": "code",
   "source": [
    "text_splitter = RecursiveCharacterTextSplitter(chunk_size=1000, chunk_overlap=200)\n",
    "chunks = text_splitter.split_documents(pdf_data)\n",
    "print(f\"Text split into {len(chunks)} chunks\")"
   ],
   "id": "eebed222861c7351",
   "outputs": [
    {
     "name": "stdout",
     "output_type": "stream",
     "text": [
      "Text split into 986 chunks\n"
     ]
    }
   ],
   "execution_count": 6
  },
  {
   "metadata": {},
   "cell_type": "markdown",
   "source": "## Vector Database",
   "id": "b64a2fbfc26b616c"
  },
  {
   "metadata": {
    "ExecuteTime": {
     "end_time": "2024-11-10T17:19:56.957318Z",
     "start_time": "2024-11-10T17:19:41.658407Z"
    }
   },
   "cell_type": "code",
   "source": [
    "chroma_db = Chroma.from_documents(\n",
    "    documents=chunks,\n",
    "    embedding=OllamaEmbeddings(model=\"nomic-embed-text\"),\n",
    "    collection_name=\"local-rag-tacoma\"\n",
    ")\n",
    "print(f\"Vector database created successfully\")"
   ],
   "id": "bf69fdea3c75a162",
   "outputs": [
    {
     "name": "stdout",
     "output_type": "stream",
     "text": [
      "Vector database created successfully\n"
     ]
    }
   ],
   "execution_count": 7
  },
  {
   "metadata": {},
   "cell_type": "markdown",
   "source": "## Set LLM and Retrieval",
   "id": "301ec2dbd553bf0a"
  },
  {
   "metadata": {
    "ExecuteTime": {
     "end_time": "2024-11-10T17:44:11.402381Z",
     "start_time": "2024-11-10T17:44:11.393232Z"
    }
   },
   "cell_type": "code",
   "source": [
    "local_model = \"llama3.2:latest\"\n",
    "#local_model = \"granite3-dense:8b\"\n",
    "llm = ChatOllama(model=local_model)\n",
    "\n",
    "query_prompt = PromptTemplate(\n",
    "    input_variables=[\"question\"],\n",
    "    template=\"\"\"You are an AI language model assistant.  Your task is to generate 2 \n",
    "    different versions of the give user question to retrieve relevant documents from\n",
    "    a vector database. By generating multiple perspectives on user question, your\n",
    "    goal is to help users overcome some of the limitations of distance-based\n",
    "    similarity search. Provide these alternative questions separated by newlines.\n",
    "    Original question: {question}\"\"\"\n",
    ")\n",
    "retriever = MultiQueryRetriever.from_llm(\n",
    "    chroma_db.as_retriever(),\n",
    "    llm,\n",
    "    prompt=query_prompt\n",
    ")"
   ],
   "id": "11dd4096cfbb58d8",
   "outputs": [],
   "execution_count": 30
  },
  {
   "metadata": {},
   "cell_type": "markdown",
   "source": "## Create Chain",
   "id": "9e0034cdbcf523f7"
  },
  {
   "metadata": {
    "ExecuteTime": {
     "end_time": "2024-11-10T17:44:13.591376Z",
     "start_time": "2024-11-10T17:44:13.588675Z"
    }
   },
   "cell_type": "code",
   "source": [
    "template = \"\"\"Answer the question on on the following context: \n",
    "{context}\n",
    "Question: {question}\n",
    "\"\"\"\n",
    "prompt = ChatPromptTemplate.from_template(template)"
   ],
   "id": "f3bd3a6d7cef32b9",
   "outputs": [],
   "execution_count": 31
  },
  {
   "metadata": {},
   "cell_type": "markdown",
   "source": "",
   "id": "537a3230ebcdf381"
  },
  {
   "metadata": {
    "ExecuteTime": {
     "end_time": "2024-11-10T17:44:15.623137Z",
     "start_time": "2024-11-10T17:44:15.619677Z"
    }
   },
   "cell_type": "code",
   "source": [
    "chain = (\n",
    "    {\"context\": retriever, \"question\": RunnablePassthrough()}\n",
    "    | prompt\n",
    "    | llm\n",
    "    | StrOutputParser()\n",
    ")"
   ],
   "id": "759ea464a68f7876",
   "outputs": [],
   "execution_count": 32
  },
  {
   "metadata": {
    "ExecuteTime": {
     "end_time": "2024-11-10T17:44:17.058625Z",
     "start_time": "2024-11-10T17:44:17.055907Z"
    }
   },
   "cell_type": "code",
   "source": [
    "def chat_with_pdf(question): \n",
    "    \"\"\"\n",
    "    Chat with the PDF using our chain\n",
    "    \"\"\"\n",
    "    return display(Markdown(chain.invoke(question)))"
   ],
   "id": "eed9bd1b5fcdf89c",
   "outputs": [],
   "execution_count": 33
  },
  {
   "metadata": {
    "ExecuteTime": {
     "end_time": "2024-11-10T17:44:32.299109Z",
     "start_time": "2024-11-10T17:44:27.101339Z"
    }
   },
   "cell_type": "code",
   "source": "chat_with_pdf(\"How to I connect my phone to bluetooth in my tacoma?\")",
   "id": "4ac489fbaf2bea48",
   "outputs": [
    {
     "data": {
      "text/plain": [
       "<IPython.core.display.Markdown object>"
      ],
      "text/markdown": "According to the manual, to connect a Bluetooth device to your Tacoma:\n\n1. Go to the \"Bluetooth* Audio\" screen and select \"Select Device\".\n2. Display the \"Bluetooth* Setup\" screen and select the device you want to connect (your phone).\n3. Select \"Device Info\" and then \"Restore default settings\" if needed.\n4. If prompted, change the connection method:\n\t* Select \"Connect Audio Player from\" and choose either \"Vehicle\" or \"Device\".\n\t* If you want to connect your phone to the vehicle's audio system, select \"Vehicle\". If you want to connect your audio player to the vehicle's Bluetooth system, select \"Device\".\n5. To display detailed Bluetooth settings, go back to the \"Bluetooth* Setup\" screen and select \"System Settings\".\n\nBefore making a call, make sure to check:\n\n* The connection status\n* Battery charge\n* Call area (which should be set to \"Hands Free\" or \"Phone\" mode)\n* Signal strength\n\nTo operate on each screen that is displayed, press the steering wheel button or the \"phone\" button. Several functions are available for each screen by selecting the 4 tabs.\n\nNote: If you have a Tacoma with a moonroof, the built-in microphone will be used when talking on the phone, and you must register your Bluetooth device to use the hands-free system."
     },
     "metadata": {},
     "output_type": "display_data"
    }
   ],
   "execution_count": 35
  },
  {
   "metadata": {
    "ExecuteTime": {
     "end_time": "2024-11-10T17:43:14.039094Z",
     "start_time": "2024-11-10T17:43:03.620163Z"
    }
   },
   "cell_type": "code",
   "source": [
    "#granite \n",
    "chat_with_pdf(\"How to I connect my phone to bluetooth in my tacoma?\")"
   ],
   "id": "2c5a82f05b3b098f",
   "outputs": [
    {
     "data": {
      "text/plain": [
       "<IPython.core.display.Markdown object>"
      ],
      "text/markdown": "To connect your phone to Bluetooth in your Tacoma, follow these steps:\n\n1. Display the \"Bluetooth* Setup\" screen by pressing the \"SETUP\" button and selecting \"Bluetooth\" on the \"Setup\" screen.\n2. Select to connect the device you want to use with the multimedia system.\n3. Once the phone is connected, you can use the Bluetooth Audio feature. To turn auto connection mode on, set \"Bluetooth* Power\" to on. When you register a phone, auto connection will be activated. Always set it to this mode and leave the Bluetooth phone in a place where a connection can be established."
     },
     "metadata": {},
     "output_type": "display_data"
    }
   ],
   "execution_count": 29
  },
  {
   "metadata": {},
   "cell_type": "markdown",
   "source": "",
   "id": "ab8c616ba1632a4f"
  },
  {
   "metadata": {},
   "cell_type": "markdown",
   "source": "## Cleanup",
   "id": "56e179be79eaf51f"
  },
  {
   "metadata": {},
   "cell_type": "markdown",
   "source": "",
   "id": "8446279aab818f54"
  },
  {
   "metadata": {
    "ExecuteTime": {
     "end_time": "2024-11-10T17:49:25.406605Z",
     "start_time": "2024-11-10T17:49:25.398044Z"
    }
   },
   "cell_type": "code",
   "source": [
    "chroma_db.delete_collection()\n",
    "print(\"Vector database deleted successfully\")"
   ],
   "id": "23da487b357eb24b",
   "outputs": [
    {
     "name": "stdout",
     "output_type": "stream",
     "text": [
      "Vector database deleted successfully\n"
     ]
    }
   ],
   "execution_count": 36
  },
  {
   "metadata": {},
   "cell_type": "markdown",
   "source": "",
   "id": "f4f450aa28eb19e0"
  }
 ],
 "metadata": {
  "kernelspec": {
   "display_name": "Python 3",
   "language": "python",
   "name": "python3"
  },
  "language_info": {
   "codemirror_mode": {
    "name": "ipython",
    "version": 2
   },
   "file_extension": ".py",
   "mimetype": "text/x-python",
   "name": "python",
   "nbconvert_exporter": "python",
   "pygments_lexer": "ipython2",
   "version": "2.7.6"
  }
 },
 "nbformat": 4,
 "nbformat_minor": 5
}
