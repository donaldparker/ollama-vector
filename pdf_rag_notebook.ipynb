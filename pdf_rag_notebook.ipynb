{
 "cells": [
  {
   "metadata": {},
   "cell_type": "markdown",
   "source": [
    "# Ollama PDF RAG\n",
    "\n",
    "## Import Libraries"
   ],
   "id": "1a63f6f68b6cf595"
  },
  {
   "metadata": {
    "ExecuteTime": {
     "end_time": "2024-11-11T18:21:48.993006Z",
     "start_time": "2024-11-11T18:21:48.990398Z"
    }
   },
   "cell_type": "code",
   "source": [
    "from langchain_community.document_loaders import UnstructuredPDFLoader\n",
    "from langchain_ollama import OllamaEmbeddings\n",
    "from langchain_text_splitters import RecursiveCharacterTextSplitter\n",
    "from langchain_community.vectorstores import PGVector\n",
    "from langchain_community.vectorstores import Chroma\n",
    "from langchain.prompts import ChatPromptTemplate, PromptTemplate\n",
    "from langchain_core.output_parsers import StrOutputParser\n",
    "from langchain_ollama.chat_models import ChatOllama\n",
    "from langchain_core.runnables import RunnablePassthrough\n",
    "from langchain.retrievers.multi_query import MultiQueryRetriever\n",
    "\n",
    "from dotenv import load_dotenv\n",
    "load_dotenv(dotenv_path='.env')\n",
    "\n",
    "#suppress warnings\n",
    "import warnings\n",
    "warnings.filterwarnings('ignore')\n",
    "\n",
    "from IPython.display import display, Markdown\n",
    "\n"
   ],
   "id": "f199985e96b038ed",
   "outputs": [],
   "execution_count": 38
  },
  {
   "metadata": {},
   "cell_type": "markdown",
   "source": "",
   "id": "39cae2b79b97204c"
  },
  {
   "metadata": {},
   "cell_type": "markdown",
   "source": "## Load PDFs",
   "id": "5a7822535fc7285c"
  },
  {
   "metadata": {
    "ExecuteTime": {
     "end_time": "2024-11-11T18:21:53.133227Z",
     "start_time": "2024-11-11T18:21:51.821391Z"
    }
   },
   "cell_type": "code",
   "source": [
    "load_path = \"/Users/donaldparker/Projects/lab/rag/ollama-pgvector/pdfs/tacoma-2019.pdf\"\n",
    "if load_path:\n",
    "    loader = UnstructuredPDFLoader(file_path=load_path)\n",
    "    pdf_data = loader.load()\n",
    "    print(f\"PDF Loaded successfully: {load_path}\")\n",
    "else:\n",
    "    print(f\"Unable to load PDF\")"
   ],
   "id": "9a4e32463fc6a3b7",
   "outputs": [
    {
     "name": "stdout",
     "output_type": "stream",
     "text": [
      "PDF Loaded successfully: /Users/donaldparker/Projects/lab/rag/ollama-pgvector/pdfs/psyc/Altering_Consciousness_Multidisciplinary.pdf\n"
     ]
    }
   ],
   "execution_count": 39
  },
  {
   "metadata": {},
   "cell_type": "markdown",
   "source": "## Split text into chunks",
   "id": "421a124b5bb681be"
  },
  {
   "metadata": {
    "ExecuteTime": {
     "end_time": "2024-11-11T18:21:59.559558Z",
     "start_time": "2024-11-11T18:21:59.547017Z"
    }
   },
   "cell_type": "code",
   "source": [
    "text_splitter = RecursiveCharacterTextSplitter(chunk_size=1000, chunk_overlap=200)\n",
    "chunks = text_splitter.split_documents(pdf_data)\n",
    "print(f\"Text split into {len(chunks)} chunks\")"
   ],
   "id": "eebed222861c7351",
   "outputs": [
    {
     "name": "stdout",
     "output_type": "stream",
     "text": [
      "Text split into 210 chunks\n"
     ]
    }
   ],
   "execution_count": 40
  },
  {
   "metadata": {},
   "cell_type": "markdown",
   "source": "## Vector Database",
   "id": "b64a2fbfc26b616c"
  },
  {
   "metadata": {
    "ExecuteTime": {
     "end_time": "2024-11-11T18:22:52.980341Z",
     "start_time": "2024-11-11T18:22:50.307088Z"
    }
   },
   "cell_type": "code",
   "source": [
    "chroma_db = Chroma.from_documents(\n",
    "    documents=chunks,\n",
    "    embedding=OllamaEmbeddings(model=\"nomic-embed-text\"),\n",
    "    collection_name=\"rag-tacoma\"\n",
    ")\n",
    "pgvector_db = PGVector.from_documents(\n",
    "    collection_name=collection_name,\n",
    "    documents=chunks,\n",
    "    embedding=OpenAIEmbeddings(openai_api_key=os.getenv(\"OPENAI_API_KEY\")),\n",
    "    use_jsonb=True\n",
    ")\n",
    "\n",
    "print(f\"Vector database created successfully\")"
   ],
   "id": "bf69fdea3c75a162",
   "outputs": [
    {
     "name": "stdout",
     "output_type": "stream",
     "text": [
      "Vector database created successfully\n"
     ]
    }
   ],
   "execution_count": 41
  },
  {
   "metadata": {},
   "cell_type": "markdown",
   "source": "## Set LLM and Retrieval",
   "id": "301ec2dbd553bf0a"
  },
  {
   "metadata": {
    "ExecuteTime": {
     "end_time": "2024-11-11T18:22:57.773531Z",
     "start_time": "2024-11-11T18:22:57.761157Z"
    }
   },
   "cell_type": "code",
   "source": [
    "local_model = \"llama3.2:latest\"\n",
    "#local_model = \"granite3-dense:8b\"\n",
    "llm = ChatOllama(model=local_model)\n",
    "\n",
    "query_prompt = PromptTemplate(\n",
    "    input_variables=[\"question\"],\n",
    "    template=\"\"\"You are an AI language model assistant.  Your task is to generate 2 \n",
    "    different versions of the give user question to retrieve relevant documents from\n",
    "    a vector database. By generating multiple perspectives on user question, your\n",
    "    goal is to help users overcome some of the limitations of distance-based\n",
    "    similarity search. Provide these alternative questions separated by newlines.\n",
    "    Original question: {question}\"\"\"\n",
    ")\n",
    "retriever = MultiQueryRetriever.from_llm(\n",
    "    chroma_db.as_retriever(),\n",
    "    llm,\n",
    "    prompt=query_prompt\n",
    ")"
   ],
   "id": "11dd4096cfbb58d8",
   "outputs": [],
   "execution_count": 42
  },
  {
   "metadata": {},
   "cell_type": "markdown",
   "source": "## Create Chain",
   "id": "9e0034cdbcf523f7"
  },
  {
   "metadata": {
    "ExecuteTime": {
     "end_time": "2024-11-11T18:23:01.533715Z",
     "start_time": "2024-11-11T18:23:01.531106Z"
    }
   },
   "cell_type": "code",
   "source": [
    "template = \"\"\"Answer the question on on the following context: \n",
    "{context}\n",
    "Question: {question}\n",
    "\"\"\"\n",
    "prompt = ChatPromptTemplate.from_template(template)"
   ],
   "id": "f3bd3a6d7cef32b9",
   "outputs": [],
   "execution_count": 43
  },
  {
   "metadata": {},
   "cell_type": "markdown",
   "source": "",
   "id": "537a3230ebcdf381"
  },
  {
   "metadata": {
    "ExecuteTime": {
     "end_time": "2024-11-11T18:23:03.901850Z",
     "start_time": "2024-11-11T18:23:03.899080Z"
    }
   },
   "cell_type": "code",
   "source": [
    "chain = (\n",
    "    {\"context\": retriever, \"question\": RunnablePassthrough()}\n",
    "    | prompt\n",
    "    | llm\n",
    "    | StrOutputParser()\n",
    ")"
   ],
   "id": "759ea464a68f7876",
   "outputs": [],
   "execution_count": 44
  },
  {
   "metadata": {
    "ExecuteTime": {
     "end_time": "2024-11-11T18:23:05.955683Z",
     "start_time": "2024-11-11T18:23:05.953125Z"
    }
   },
   "cell_type": "code",
   "source": [
    "def chat_with_pdf(question): \n",
    "    \"\"\"\n",
    "    Chat with the PDF using our chain\n",
    "    \"\"\"\n",
    "    return display(Markdown(chain.invoke(question)))"
   ],
   "id": "eed9bd1b5fcdf89c",
   "outputs": [],
   "execution_count": 45
  },
  {
   "metadata": {
    "ExecuteTime": {
     "end_time": "2024-11-11T18:23:32.151687Z",
     "start_time": "2024-11-11T18:23:25.791540Z"
    }
   },
   "cell_type": "code",
   "source": "chat_with_pdf(\"Summarize this pdf\")",
   "id": "4ac489fbaf2bea48",
   "outputs": [
    {
     "data": {
      "text/plain": [
       "<IPython.core.display.Markdown object>"
      ],
      "text/markdown": "The PDF appears to be a collection of articles and essays related to the study of Altered States of Consciousness (ASCs), edited by an author who is not explicitly mentioned in the provided excerpts.\n\nThe introduction suggests that the field of ASC research has been neglected, and that a new approach is needed. The editor argues for \"state-specific sciences,\" which implies that each ASC should be studied independently and that the existing scientific methods may not be sufficient to understand these states.\n\nThe PDF includes several articles on various topics related to ASCs, such as:\n\n1. Meditation: A discussion of the research literature on meditation and its effects on consciousness.\n2. Hypnagogic state: An article on the hypnagogic state, which is a transitional state between wakefulness and sleep.\n3. Dream consciousness: An overview of the study of dream consciousness and its relationship to ASCs.\n4. Psychedelics: A discussion of the effects of minor and major psychedelics on consciousness.\n\nThe editor also mentions that even with extensive literature searching, there was limited research available on many topics related to ASCs. This suggests that the field is still in its early stages and that more research is needed to fully understand these states.\n\nFinally, the PDF includes references to other researchers who have written about ASCs, such as Robert Tart, who has proposed a conceptual framework for understanding discrete states of consciousness.\n\nOverall, the PDF appears to be an anthology of essays on the study of Altered States of Consciousness, with a focus on highlighting the need for more research and a new approach to understanding these complex phenomena."
     },
     "metadata": {},
     "output_type": "display_data"
    }
   ],
   "execution_count": 46
  },
  {
   "metadata": {
    "ExecuteTime": {
     "end_time": "2024-11-11T18:24:32.232231Z",
     "start_time": "2024-11-11T18:24:29.857198Z"
    }
   },
   "cell_type": "code",
   "source": [
    "#granite \n",
    "chat_with_pdf(\"What were you asked to do in the last step?\")"
   ],
   "id": "2c5a82f05b3b098f",
   "outputs": [
    {
     "data": {
      "text/plain": [
       "<IPython.core.display.Markdown object>"
      ],
      "text/markdown": "You didn't ask me to do anything in this conversation yet. This is the first message you've sent. Would you like to ask me something or provide a task for me to complete? I'm here to help!"
     },
     "metadata": {},
     "output_type": "display_data"
    }
   ],
   "execution_count": 47
  },
  {
   "metadata": {},
   "cell_type": "markdown",
   "source": "",
   "id": "ab8c616ba1632a4f"
  },
  {
   "metadata": {},
   "cell_type": "markdown",
   "source": "## Cleanup",
   "id": "56e179be79eaf51f"
  },
  {
   "metadata": {},
   "cell_type": "markdown",
   "source": "",
   "id": "8446279aab818f54"
  },
  {
   "metadata": {
    "ExecuteTime": {
     "end_time": "2024-11-10T17:49:25.406605Z",
     "start_time": "2024-11-10T17:49:25.398044Z"
    }
   },
   "cell_type": "code",
   "source": [
    "chroma_db.delete_collection()\n",
    "print(\"Vector database deleted successfully\")"
   ],
   "id": "23da487b357eb24b",
   "outputs": [
    {
     "name": "stdout",
     "output_type": "stream",
     "text": [
      "Vector database deleted successfully\n"
     ]
    }
   ],
   "execution_count": 36
  },
  {
   "metadata": {},
   "cell_type": "markdown",
   "source": "",
   "id": "f4f450aa28eb19e0"
  }
 ],
 "metadata": {
  "kernelspec": {
   "display_name": "Python 3",
   "language": "python",
   "name": "python3"
  },
  "language_info": {
   "codemirror_mode": {
    "name": "ipython",
    "version": 2
   },
   "file_extension": ".py",
   "mimetype": "text/x-python",
   "name": "python",
   "nbconvert_exporter": "python",
   "pygments_lexer": "ipython2",
   "version": "2.7.6"
  }
 },
 "nbformat": 4,
 "nbformat_minor": 5
}
